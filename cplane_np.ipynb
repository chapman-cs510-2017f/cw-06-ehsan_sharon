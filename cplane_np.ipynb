{
 "cells": [
  {
   "cell_type": "markdown",
   "metadata": {
    "collapsed": false
   },
   "source": [
    "Sharon Kim, Eshan Yaghmaei\n",
    "\n",
    "# Classwork 06"
   ]
  },
  {
   "cell_type": "code",
   "execution_count": 2,
   "metadata": {
    "collapsed": false
   },
   "outputs": [
   ],
   "source": [
    "from cplane_np import ArrayComplexPlane\n",
    "from IPython.display import display"
   ]
  },
  {
   "cell_type": "markdown",
   "metadata": {
    "collapsed": false
   },
   "source": [
    "## Creating a Complex Plane with Numpy and Pandas\n",
    "\n",
    "Instead of using lists to create a complex plane, arrays and dataframes were used through numpy and pandas. Similarly with Classwork 05, we imported absplane and subclassed the abstract base class to provide the infrastructure for the subclass.  The complex numbers in the 2D complex plane have the format (x + y*1j). It has the same capabilities as CW-05 where it can be easily transformed through the function f to produce another 2D grid of numbers f(x + y*1j).  It can also regenerate the origina 2D grid of complex numbers and clear all the function transformations that happened to the plane. It can also reset the parameters for the 2D grid of points and regenerate the grid, reapplying all collected functions to each point.\n"
   ]
  },
  {
   "cell_type": "markdown",
   "metadata": {
    "collapsed": false
   },
   "source": [
    "## Demonstration\n",
    "#### Create a 2D dataframe containing complex numbers having the form (x+y*1j)"
   ]
  },
  {
   "cell_type": "code",
   "execution_count": 12,
   "metadata": {
    "collapsed": false
   },
   "outputs": [
    {
     "data": {
      "text/html": [
       "<div>\n",
       "<style>\n",
       "    .dataframe thead tr:only-child th {\n",
       "        text-align: right;\n",
       "    }\n",
       "\n",
       "    .dataframe thead th {\n",
       "        text-align: left;\n",
       "    }\n",
       "\n",
       "    .dataframe tbody tr th {\n",
       "        vertical-align: top;\n",
       "    }\n",
       "</style>\n",
       "<table border=\"1\" class=\"dataframe\">\n",
       "  <thead>\n",
       "    <tr style=\"text-align: right;\">\n",
       "      <th></th>\n",
       "      <th>0</th>\n",
       "      <th>1</th>\n",
       "      <th>2</th>\n",
       "      <th>3</th>\n",
       "      <th>4</th>\n",
       "    </tr>\n",
       "  </thead>\n",
       "  <tbody>\n",
       "    <tr>\n",
       "      <th>0</th>\n",
       "      <td>(-2-2j)</td>\n",
       "      <td>(-1-2j)</td>\n",
       "      <td>-2j</td>\n",
       "      <td>(1-2j)</td>\n",
       "      <td>(2-2j)</td>\n",
       "    </tr>\n",
       "    <tr>\n",
       "      <th>1</th>\n",
       "      <td>(-2-1j)</td>\n",
       "      <td>(-1-1j)</td>\n",
       "      <td>-1j</td>\n",
       "      <td>(1-1j)</td>\n",
       "      <td>(2-1j)</td>\n",
       "    </tr>\n",
       "    <tr>\n",
       "      <th>2</th>\n",
       "      <td>(-2+0j)</td>\n",
       "      <td>(-1+0j)</td>\n",
       "      <td>0j</td>\n",
       "      <td>(1+0j)</td>\n",
       "      <td>(2+0j)</td>\n",
       "    </tr>\n",
       "    <tr>\n",
       "      <th>3</th>\n",
       "      <td>(-2+1j)</td>\n",
       "      <td>(-1+1j)</td>\n",
       "      <td>1j</td>\n",
       "      <td>(1+1j)</td>\n",
       "      <td>(2+1j)</td>\n",
       "    </tr>\n",
       "    <tr>\n",
       "      <th>4</th>\n",
       "      <td>(-2+2j)</td>\n",
       "      <td>(-1+2j)</td>\n",
       "      <td>2j</td>\n",
       "      <td>(1+2j)</td>\n",
       "      <td>(2+2j)</td>\n",
       "    </tr>\n",
       "  </tbody>\n",
       "</table>\n",
       "</div>"
      ]
     },
     "execution_count": 12,
     "metadata": {
     },
     "output_type": "execute_result"
    }
   ],
   "source": [
    "acp = ArrayComplexPlane(-2, 2, 5, -2, 2, 5)\n",
    "display(acp.plane)"
   ]
  },
  {
   "cell_type": "markdown",
   "metadata": {
    "collapsed": false
   },
   "source": [
    "#### Use apply to apply a transformation onto a complex plane by the function f"
   ]
  },
  {
   "cell_type": "code",
   "execution_count": 13,
   "metadata": {
    "collapsed": false
   },
   "outputs": [
    {
     "data": {
      "text/html": [
       "<div>\n",
       "<style>\n",
       "    .dataframe thead tr:only-child th {\n",
       "        text-align: right;\n",
       "    }\n",
       "\n",
       "    .dataframe thead th {\n",
       "        text-align: left;\n",
       "    }\n",
       "\n",
       "    .dataframe tbody tr th {\n",
       "        vertical-align: top;\n",
       "    }\n",
       "</style>\n",
       "<table border=\"1\" class=\"dataframe\">\n",
       "  <thead>\n",
       "    <tr style=\"text-align: right;\">\n",
       "      <th></th>\n",
       "      <th>0</th>\n",
       "      <th>1</th>\n",
       "      <th>2</th>\n",
       "      <th>3</th>\n",
       "      <th>4</th>\n",
       "    </tr>\n",
       "  </thead>\n",
       "  <tbody>\n",
       "    <tr>\n",
       "      <th>0</th>\n",
       "      <td>(-4-4j)</td>\n",
       "      <td>(-2-4j)</td>\n",
       "      <td>-4j</td>\n",
       "      <td>(2-4j)</td>\n",
       "      <td>(4-4j)</td>\n",
       "    </tr>\n",
       "    <tr>\n",
       "      <th>1</th>\n",
       "      <td>(-4-2j)</td>\n",
       "      <td>(-2-2j)</td>\n",
       "      <td>-2j</td>\n",
       "      <td>(2-2j)</td>\n",
       "      <td>(4-2j)</td>\n",
       "    </tr>\n",
       "    <tr>\n",
       "      <th>2</th>\n",
       "      <td>(-4+0j)</td>\n",
       "      <td>(-2+0j)</td>\n",
       "      <td>0j</td>\n",
       "      <td>(2+0j)</td>\n",
       "      <td>(4+0j)</td>\n",
       "    </tr>\n",
       "    <tr>\n",
       "      <th>3</th>\n",
       "      <td>(-4+2j)</td>\n",
       "      <td>(-2+2j)</td>\n",
       "      <td>2j</td>\n",
       "      <td>(2+2j)</td>\n",
       "      <td>(4+2j)</td>\n",
       "    </tr>\n",
       "    <tr>\n",
       "      <th>4</th>\n",
       "      <td>(-4+4j)</td>\n",
       "      <td>(-2+4j)</td>\n",
       "      <td>4j</td>\n",
       "      <td>(2+4j)</td>\n",
       "      <td>(4+4j)</td>\n",
       "    </tr>\n",
       "  </tbody>\n",
       "</table>\n",
       "</div>"
      ]
     },
     "execution_count": 13,
     "metadata": {
     },
     "output_type": "execute_result"
    }
   ],
   "source": [
    "def f(p):\n",
    "        return p*2\n",
    "    \n",
    "acp.apply(f)\n",
    "display(acp.plane)"
   ]
  },
  {
   "cell_type": "markdown",
   "metadata": {
    "collapsed": false
   },
   "source": [
    "#### Use refresh to regenerate the complex plane and clear all functions that transform the plane"
   ]
  },
  {
   "cell_type": "code",
   "execution_count": 14,
   "metadata": {
    "collapsed": false
   },
   "outputs": [
    {
     "data": {
      "text/html": [
       "<div>\n",
       "<style>\n",
       "    .dataframe thead tr:only-child th {\n",
       "        text-align: right;\n",
       "    }\n",
       "\n",
       "    .dataframe thead th {\n",
       "        text-align: left;\n",
       "    }\n",
       "\n",
       "    .dataframe tbody tr th {\n",
       "        vertical-align: top;\n",
       "    }\n",
       "</style>\n",
       "<table border=\"1\" class=\"dataframe\">\n",
       "  <thead>\n",
       "    <tr style=\"text-align: right;\">\n",
       "      <th></th>\n",
       "      <th>0</th>\n",
       "      <th>1</th>\n",
       "      <th>2</th>\n",
       "      <th>3</th>\n",
       "      <th>4</th>\n",
       "    </tr>\n",
       "  </thead>\n",
       "  <tbody>\n",
       "    <tr>\n",
       "      <th>0</th>\n",
       "      <td>(-2-2j)</td>\n",
       "      <td>(-1-2j)</td>\n",
       "      <td>-2j</td>\n",
       "      <td>(1-2j)</td>\n",
       "      <td>(2-2j)</td>\n",
       "    </tr>\n",
       "    <tr>\n",
       "      <th>1</th>\n",
       "      <td>(-2-1j)</td>\n",
       "      <td>(-1-1j)</td>\n",
       "      <td>-1j</td>\n",
       "      <td>(1-1j)</td>\n",
       "      <td>(2-1j)</td>\n",
       "    </tr>\n",
       "    <tr>\n",
       "      <th>2</th>\n",
       "      <td>(-2+0j)</td>\n",
       "      <td>(-1+0j)</td>\n",
       "      <td>0j</td>\n",
       "      <td>(1+0j)</td>\n",
       "      <td>(2+0j)</td>\n",
       "    </tr>\n",
       "    <tr>\n",
       "      <th>3</th>\n",
       "      <td>(-2+1j)</td>\n",
       "      <td>(-1+1j)</td>\n",
       "      <td>1j</td>\n",
       "      <td>(1+1j)</td>\n",
       "      <td>(2+1j)</td>\n",
       "    </tr>\n",
       "    <tr>\n",
       "      <th>4</th>\n",
       "      <td>(-2+2j)</td>\n",
       "      <td>(-1+2j)</td>\n",
       "      <td>2j</td>\n",
       "      <td>(1+2j)</td>\n",
       "      <td>(2+2j)</td>\n",
       "    </tr>\n",
       "  </tbody>\n",
       "</table>\n",
       "</div>"
      ]
     },
     "execution_count": 14,
     "metadata": {
     },
     "output_type": "execute_result"
    }
   ],
   "source": [
    "acp.refresh()\n",
    "display(acp.plane)"
   ]
  },
  {
   "cell_type": "markdown",
   "metadata": {
    "collapsed": false
   },
   "source": [
    "#### Use zoom to regenerate the plane with new ranges then apply all transformations in fs."
   ]
  },
  {
   "cell_type": "code",
   "execution_count": 15,
   "metadata": {
    "collapsed": false
   },
   "outputs": [
    {
     "data": {
      "text/html": [
       "<div>\n",
       "<style>\n",
       "    .dataframe thead tr:only-child th {\n",
       "        text-align: right;\n",
       "    }\n",
       "\n",
       "    .dataframe thead th {\n",
       "        text-align: left;\n",
       "    }\n",
       "\n",
       "    .dataframe tbody tr th {\n",
       "        vertical-align: top;\n",
       "    }\n",
       "</style>\n",
       "<table border=\"1\" class=\"dataframe\">\n",
       "  <thead>\n",
       "    <tr style=\"text-align: right;\">\n",
       "      <th></th>\n",
       "      <th>0</th>\n",
       "      <th>1</th>\n",
       "      <th>2</th>\n",
       "      <th>3</th>\n",
       "      <th>4</th>\n",
       "    </tr>\n",
       "  </thead>\n",
       "  <tbody>\n",
       "    <tr>\n",
       "      <th>0</th>\n",
       "      <td>(-4-4j)</td>\n",
       "      <td>(-2-4j)</td>\n",
       "      <td>-4j</td>\n",
       "      <td>(2-4j)</td>\n",
       "      <td>(4-4j)</td>\n",
       "    </tr>\n",
       "    <tr>\n",
       "      <th>1</th>\n",
       "      <td>(-4-2j)</td>\n",
       "      <td>(-2-2j)</td>\n",
       "      <td>-2j</td>\n",
       "      <td>(2-2j)</td>\n",
       "      <td>(4-2j)</td>\n",
       "    </tr>\n",
       "    <tr>\n",
       "      <th>2</th>\n",
       "      <td>(-4+0j)</td>\n",
       "      <td>(-2+0j)</td>\n",
       "      <td>0j</td>\n",
       "      <td>(2+0j)</td>\n",
       "      <td>(4+0j)</td>\n",
       "    </tr>\n",
       "    <tr>\n",
       "      <th>3</th>\n",
       "      <td>(-4+2j)</td>\n",
       "      <td>(-2+2j)</td>\n",
       "      <td>2j</td>\n",
       "      <td>(2+2j)</td>\n",
       "      <td>(4+2j)</td>\n",
       "    </tr>\n",
       "    <tr>\n",
       "      <th>4</th>\n",
       "      <td>(-4+4j)</td>\n",
       "      <td>(-2+4j)</td>\n",
       "      <td>4j</td>\n",
       "      <td>(2+4j)</td>\n",
       "      <td>(4+4j)</td>\n",
       "    </tr>\n",
       "  </tbody>\n",
       "</table>\n",
       "</div>"
      ]
     },
     "execution_count": 15,
     "metadata": {
     },
     "output_type": "execute_result"
    }
   ],
   "source": [
    "acp.zoom(-4,4,5,-4,4,5)\n",
    "display(acp.plane)"
   ]
  }
 ],
 "metadata": {
  "kernelspec": {
   "display_name": "Python 3 (Ubuntu Linux)",
   "language": "python",
   "name": "python3"
  },
  "language_info": {
   "codemirror_mode": {
    "name": "ipython",
    "version": 3
   },
   "file_extension": ".py",
   "mimetype": "text/x-python",
   "name": "python",
   "nbconvert_exporter": "python",
   "pygments_lexer": "ipython3",
   "version": "3.5.2"
  }
 },
 "nbformat": 4,
 "nbformat_minor": 0
}