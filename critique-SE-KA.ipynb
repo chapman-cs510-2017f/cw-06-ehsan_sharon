{
 "cells": [
  {
   "cell_type": "code",
   "execution_count": 0,
   "metadata": {
    "collapsed": false
   },
   "outputs": [
   ],
   "source": [
    "## Is it clear how the code is organized? \n",
    "\n",
    "description is there for subclass ListComplexPlane, description is there for attributes \n",
    "description is not there for create plane, refresh, apply, zoom\n",
    "no examples are given\n",
    "\n",
    "## Is the code properly documented with both docstrings and supplementary comments according to industry standards?\n",
    "they have supplementary comments, but should add more\n",
    "\n",
    "## Can you follow the algorithm of the code, i.e., what it is doing, and how?\n",
    "yes\n",
    "\n",
    "## Do you see any suggestions for how to improve the code?\n",
    "add more descriptions and examples\n",
    "\n",
    "## Discuss your critique with the members of the other group.\n",
    "\n",
    "Send each other your respective critique notebooks. \n",
    "\n",
    "Commit both your critique and their critique to your repository."
   ]
  }
 ],
 "metadata": {
  "kernelspec": {
   "display_name": "Python 3 (Ubuntu Linux)",
   "language": "python",
   "name": "python3"
  },
  "language_info": {
   "codemirror_mode": {
    "name": "ipython",
    "version": 3
   },
   "file_extension": ".py",
   "mimetype": "text/x-python",
   "name": "python",
   "nbconvert_exporter": "python",
   "pygments_lexer": "ipython3",
   "version": "3.5.2"
  }
 },
 "nbformat": 4,
 "nbformat_minor": 0
}