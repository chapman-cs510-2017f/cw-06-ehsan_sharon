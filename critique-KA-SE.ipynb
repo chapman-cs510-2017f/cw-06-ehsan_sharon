{
 "cells": [
  {
   "cell_type": "markdown",
   "metadata": {
    "collapsed": false
   },
   "source": [
    "#### Reviewee Ehsan and Sharon (Group B)\n",
    "#### Reviewer Krista and Atabak (Group A)"
   ]
  },
  {
   "cell_type": "markdown",
   "metadata": {
    "collapsed": false
   },
   "source": [
    "Is it clear how the code is organized? \n",
    "- The code is clearly organized.\n",
    "\n",
    "Is the code properly documented with both docstrings and supplementary comments according to industry standards? \n",
    "- Docstrings should be edited to explain code, current docstrings are the professors notes on assignment\n",
    "\n",
    "Can you follow the algorithm of the code, i.e., what it is doing, and how?\n",
    "- We can follow the code.\n",
    "\n",
    "Do you see any suggestions for how to improve the code?\n",
    "- In creategrid method, it's better to split the return statement. Specifically, do for loop before the return statment.\n"
   ]
  }
 ],
 "metadata": {
  "kernelspec": {
   "display_name": "Python 2 (SageMath)",
   "language": "python",
   "name": "python2"
  },
  "language_info": {
   "codemirror_mode": {
    "name": "ipython",
    "version": 2
   },
   "file_extension": ".py",
   "mimetype": "text/x-python",
   "name": "python",
   "nbconvert_exporter": "python",
   "pygments_lexer": "ipython2",
   "version": "2.7.13"
  }
 },
 "nbformat": 4,
 "nbformat_minor": 0
}